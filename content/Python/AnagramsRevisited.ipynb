{
 "cells": [
  {
   "cell_type": "markdown",
   "metadata": {},
   "source": [
    "# Revisiting an Anagram Detector\n",
    "\n",
    "The following example is taken from Problem Solving with Algorithms and Data Structures using Python.  We wrote this example for the first edition of the book 10 years ago!  Our thinking at the time was to write Python in a way that would prepare students for Java and/or C++.   In addition, the algorithms were written to illustrate specific \"Big-O\" runtimes.\n",
    "\n",
    "In addition to the code, I'm making use of the %timeit magic in Jupyter notebooks.  Even though this is a simple example timeit runs the example thousands of times and takes the average of the best 3 times."
   ]
  },
  {
   "cell_type": "code",
   "execution_count": 56,
   "metadata": {
    "collapsed": false
   },
   "outputs": [
    {
     "name": "stdout",
     "output_type": "stream",
     "text": [
      "100000 loops, best of 3: 6.85 µs per loop\n",
      "10000 loops, best of 3: 31.1 µs per loop\n"
     ]
    }
   ],
   "source": [
    "def anagramSolution4(s1,s2):\n",
    "    c1 = [0]*26\n",
    "    c2 = [0]*26\n",
    "\n",
    "    for i in range(len(s1)):\n",
    "        pos = ord(s1[i])-ord('a')\n",
    "        c1[pos] = c1[pos] + 1\n",
    "\n",
    "    for i in range(len(s2)):\n",
    "        pos = ord(s2[i])-ord('a')\n",
    "        c2[pos] = c2[pos] + 1\n",
    "\n",
    "    j = 0\n",
    "    stillOK = True\n",
    "    while j<26 and stillOK:\n",
    "        if c1[j]==c2[j]:\n",
    "            j = j + 1\n",
    "        else:\n",
    "            stillOK = False\n",
    "\n",
    "    return stillOK\n",
    "\n",
    "original = '''Thats one small step for a man one giant leap for mankind Neil Armstrong'''.lower().replace(' ','')\n",
    "anagram = '''thin man ran makes a large stride left planet pins flag on moon on to Mars'''.lower().replace(' ','')\n",
    "\n",
    "%timeit anagramSolution4('apple','pleap')\n",
    "%timeit anagramSolution4(original,anagram)"
   ]
  },
  {
   "cell_type": "markdown",
   "metadata": {},
   "source": [
    "### A better solution from github?\n",
    "\n",
    "Just yesterday I received a bug report about the example above on github, which claimed that the following code was better and faster.  There are two important points to make:\n",
    "\n",
    "1.  The following example is incorrect for strings that are not the same length! The Python zip function simply throws away extra values when zipping two lists together.  This is easily fixed by checking the lengths of the strings.\n",
    "2.  The point of the example is to illustrate big O algorithm analysis.  In that sense the two algorithms are both linear.  In the case of Algorithm analysis two sequential loops are the same as one loop that iterates in parallel.  Indexing and hashing are both constant time operations.  Testing whether or not two dictionaries are equal is also going to be linear.\n",
    "\n",
    "However, the bug report did get me thinking about the style that this original example was written in.\n",
    "\n"
   ]
  },
  {
   "cell_type": "code",
   "execution_count": null,
   "metadata": {
    "collapsed": true
   },
   "outputs": [],
   "source": [
    "def compare(str1, str2):\n",
    "    time1= time.time()\n",
    "    dict1 = {}\n",
    "    dict2 = {}\n",
    "\n",
    "    list1 = list(str1)\n",
    "    list2 = list(str2)\n",
    "\n",
    "    for i, j in zip(list1, list2):\n",
    "        if i in dict1:\n",
    "            dict1[i] += 1\n",
    "        else:\n",
    "            dict1[i] = 1\n",
    "\n",
    "        if j in dict2:\n",
    "            dict2[j] += 1\n",
    "        else:\n",
    "            dict2[j] = 1\n",
    "\n",
    "    if dict1 == dict2:\n",
    "        return True\n",
    "    else:\n",
    "        return False"
   ]
  },
  {
   "cell_type": "markdown",
   "metadata": {},
   "source": [
    "### Becoming more Pythonic\n",
    "\n",
    "Since 2005 my thinking has evolved, and especially for a second course in CS, I think I should be writing in a more Pythonic style.  So lets take my original ``anagramSolution4`` and modernize it.\n",
    "\n",
    "1.  There is no reason to use range and indexing when we can simply iterate over the characters in each string.\n",
    "2.  Use the += operator\n",
    "3.  Calculate the ordinal offset from 'a' once rather than many times."
   ]
  },
  {
   "cell_type": "code",
   "execution_count": 46,
   "metadata": {
    "collapsed": false
   },
   "outputs": [
    {
     "name": "stdout",
     "output_type": "stream",
     "text": [
      "100000 loops, best of 3: 5.29 µs per loop\n",
      "100000 loops, best of 3: 19.6 µs per loop\n"
     ]
    }
   ],
   "source": [
    "def anagramSolution4(s1,s2):\n",
    "    \n",
    "    if len(s1) != len(s2):\n",
    "        return False\n",
    "    \n",
    "    c1 = [0]*26\n",
    "    c2 = [0]*26\n",
    "\n",
    "    ord_offset = ord('a')\n",
    "    for i in s1:\n",
    "        pos = ord(i)-ord_offset\n",
    "        c1[pos] += 1\n",
    "\n",
    "    for i in s2:\n",
    "        pos = ord(i)-ord_offset\n",
    "        c2[pos] += 1\n",
    "\n",
    "    j = 0\n",
    "    stillOK = True\n",
    "    while j<26 and stillOK:\n",
    "        if c1[j]==c2[j]:\n",
    "            j = j + 1\n",
    "        else:\n",
    "            stillOK = False\n",
    "\n",
    "    return stillOK\n",
    "\n",
    "%timeit anagramSolution4('apple','pleap')\n",
    "%timeit anagramSolution4(original, anagram)"
   ]
  },
  {
   "cell_type": "markdown",
   "metadata": {},
   "source": [
    "Well, that is quite a bit faster for the longer anagram, and less code is always nicer than more in terms of making things easier to understand.\n",
    "\n",
    "Now lets see if the fancy use of zip makes our soution any faster that the two loops run in serial?"
   ]
  },
  {
   "cell_type": "code",
   "execution_count": 49,
   "metadata": {
    "collapsed": false
   },
   "outputs": [
    {
     "name": "stdout",
     "output_type": "stream",
     "text": [
      "100000 loops, best of 3: 5.6 µs per loop\n",
      "10000 loops, best of 3: 20.8 µs per loop\n"
     ]
    }
   ],
   "source": [
    "def anagramSolution4(s1,s2):\n",
    "    \n",
    "    if len(s1) != len(s2):\n",
    "        return False\n",
    "    \n",
    "    c1 = [0]*26\n",
    "    c2 = [0]*26\n",
    "\n",
    "    ord_offset = ord('a')\n",
    "    for i,j in zip(s1,s2):\n",
    "        c1[ord(i)-ord_offset] += 1\n",
    "        c2[ord(j)-ord_offset] += 1\n",
    "\n",
    "    j = 0\n",
    "    stillOK = True\n",
    "    while j<26 and stillOK:\n",
    "        if c1[j]==c2[j]:\n",
    "            j = j + 1\n",
    "        else:\n",
    "            stillOK = False\n",
    "\n",
    "    return stillOK\n",
    "\n",
    "%timeit anagramSolution4('apple','pleap')\n",
    "%timeit anagramSolution4(original,anagram)"
   ]
  },
  {
   "cell_type": "markdown",
   "metadata": {},
   "source": [
    "Wow, there is nothing gained, in fact we lose a microsecond!\n",
    "\n",
    "What can we do to make that last while loop more pythonic?\n",
    "\n",
    "We have two options.  If we want to be really explicit about what we are doing we could do something like this\n",
    "``return all(map(lambda x,y: x==y, c1,c2))``  You can break this apart on your own to see that map creates a list of True or False values.  all simply checks to see that all of the values in the provided list are true.\n",
    "\n",
    "But the simplest solution is just to let Python decide if the two lists are equal.\n",
    "\n"
   ]
  },
  {
   "cell_type": "code",
   "execution_count": 72,
   "metadata": {
    "collapsed": false
   },
   "outputs": [
    {
     "name": "stdout",
     "output_type": "stream",
     "text": [
      "True\n",
      "100000 loops, best of 3: 2.78 µs per loop\n",
      "100000 loops, best of 3: 18 µs per loop\n"
     ]
    }
   ],
   "source": [
    "def anagramSolution4(s1,s2):\n",
    "    \n",
    "    if len(s1) != len(s2):\n",
    "        return False\n",
    "    \n",
    "    c1 = [0]*26\n",
    "    c2 = [0]*26\n",
    "\n",
    "    ord_offset = ord('a')\n",
    "    for i,j in zip(s1,s2):\n",
    "        c1[ord(i)-ord_offset] += 1\n",
    "        c2[ord(j)-ord_offset] += 1\n",
    "\n",
    "    return c1 == c2\n",
    "\n",
    "print(anagramSolution4(original,anagram))\n",
    "%timeit anagramSolution4('apple','pleap')\n",
    "%timeit anagramSolution4(original,anagram)"
   ]
  },
  {
   "cell_type": "markdown",
   "metadata": {},
   "source": [
    "That gives us some really nice improvements over our original solution!\n",
    "\n",
    "For the short anangram the new solution is 2.5 times faster, for the longer anagram the new solution is 1.7 times faster.\n",
    "\n",
    "### Are dictionaries better than lists for this problem?"
   ]
  },
  {
   "cell_type": "code",
   "execution_count": 60,
   "metadata": {
    "collapsed": false
   },
   "outputs": [
    {
     "name": "stdout",
     "output_type": "stream",
     "text": [
      "The slowest run took 4.11 times longer than the fastest. This could mean that an intermediate result is being cached \n",
      "100000 loops, best of 3: 2.43 µs per loop\n",
      "100000 loops, best of 3: 16.7 µs per loop\n"
     ]
    }
   ],
   "source": [
    "def compare(str1, str2):\n",
    "\n",
    "    # Check lengths first, then rest of solution is valid\n",
    "    if len(str1) != len(str2):\n",
    "        return False\n",
    "\n",
    "    dict1 = {}\n",
    "    dict2 = {}\n",
    "    \n",
    "    list1 = list(str1)\n",
    "    list2 = list(str2)\n",
    "\n",
    "    for i, j in zip(list1, list2):\n",
    "        if i in dict1:\n",
    "            dict1[i] += 1\n",
    "        else:\n",
    "            dict1[i] = 1\n",
    "\n",
    "        if j in dict2:\n",
    "            dict2[j] += 1\n",
    "        else:\n",
    "            dict2[j] = 1\n",
    "\n",
    "    if dict1 == dict2:\n",
    "        return True\n",
    "    else:\n",
    "        return False\n",
    "\n",
    "%timeit compare(\"apple\",\"peapl\")\n",
    "%timeit compare(anagram,original)"
   ]
  },
  {
   "cell_type": "markdown",
   "metadata": {},
   "source": [
    "The suggested function is indeed faster than our published solution, but is pretty close to our cleaned up solution.\n",
    "\n",
    "Now lets do a couple of cleanups on the compare function:\n",
    "    "
   ]
  },
  {
   "cell_type": "code",
   "execution_count": 70,
   "metadata": {
    "collapsed": false
   },
   "outputs": [
    {
     "name": "stdout",
     "output_type": "stream",
     "text": [
      "100000 loops, best of 3: 3.25 µs per loop\n",
      "100000 loops, best of 3: 17.9 µs per loop\n"
     ]
    }
   ],
   "source": [
    "from collections import defaultdict\n",
    "\n",
    "def compare(str1, str2):\n",
    "\n",
    "    if len(str1) != len(str2):\n",
    "        return False\n",
    "\n",
    "    dict1 = defaultdict(int)\n",
    "    dict2 = defaultdict(int)\n",
    "\n",
    "    for i, j in zip(str1,str2):\n",
    "        dict1[i] += 1\n",
    "        dict2[j] += 1\n",
    "\n",
    "    return dict1 == dict2\n",
    "\n",
    "\n",
    "%timeit compare(\"apple\",\"peapl\")\n",
    "%timeit compare(anagram,original)"
   ]
  },
  {
   "cell_type": "markdown",
   "metadata": {},
   "source": [
    "The use of a ``defaultdict`` allows us to eliminate all the checks for whether a key is in the dictionary yet.  We can just assume it is in there, and let the default of 0 kick in when necessary.  This is very similar to using the ``get`` method on a regular dictionary and having it return 0 when the key is not already in the dictionary.  For example we could write ``dict1[i] = dict1.get(i,0) + 1``   If i is not in ``dict1`` then get will return 0 (rather than throwing an exception) and we can add 1 to it to initialize the key value pair.\n",
    "\n",
    "Finally lets compare our two cleaned up solutions on the short anagram."
   ]
  },
  {
   "cell_type": "code",
   "execution_count": 63,
   "metadata": {
    "collapsed": false
   },
   "outputs": [
    {
     "name": "stdout",
     "output_type": "stream",
     "text": [
      "The slowest run took 12.64 times longer than the fastest. This could mean that an intermediate result is being cached \n",
      "100000 loops, best of 3: 2.73 µs per loop\n",
      "100000 loops, best of 3: 2.37 µs per loop\n"
     ]
    }
   ],
   "source": [
    "%timeit anagramSolution4(\"apple\",\"pleap\")\n",
    "%timeit compare(\"apple\",\"pleap\")\n"
   ]
  },
  {
   "cell_type": "markdown",
   "metadata": {},
   "source": [
    "After all that there is not much difference, a few tenths of a microsecond.  How about on our longer anagram?"
   ]
  },
  {
   "cell_type": "code",
   "execution_count": 64,
   "metadata": {
    "collapsed": false
   },
   "outputs": [
    {
     "name": "stdout",
     "output_type": "stream",
     "text": [
      "10000 loops, best of 3: 18.1 µs per loop\n",
      "100000 loops, best of 3: 16.4 µs per loop\n"
     ]
    }
   ],
   "source": [
    "%timeit anagramSolution4(original,anagram)\n",
    "%timeit compare(original,anagram)"
   ]
  },
  {
   "cell_type": "markdown",
   "metadata": {
    "collapsed": false
   },
   "source": [
    "### Some really short solutions that don't help the educational intent of the section\n",
    "\n",
    "Of course there are other solutions that really make use of the power of Python, but are not necessarily interesting in the context of providing algorithms for Analysis.  Here are two:\n",
    "\n",
    "The first solution makes use of the standard library counter, and essentially does exactly what compare does, but making use of a standard library data structure.\n",
    "\n",
    "The second makes use of sorting, which at best is $O(n \\log{n})$"
   ]
  },
  {
   "cell_type": "code",
   "execution_count": 68,
   "metadata": {
    "collapsed": false
   },
   "outputs": [
    {
     "name": "stdout",
     "output_type": "stream",
     "text": [
      "100000 loops, best of 3: 9.77 µs per loop\n",
      "The slowest run took 4.60 times longer than the fastest. This could mean that an intermediate result is being cached \n",
      "1000000 loops, best of 3: 1.13 µs per loop\n",
      "----\n",
      "100000 loops, best of 3: 15.4 µs per loop\n",
      "100000 loops, best of 3: 13.9 µs per loop\n"
     ]
    }
   ],
   "source": [
    "from collections import Counter\n",
    "\n",
    "def pythonic1(str1,str2):\n",
    "    return Counter(str1) == Counter(str2)\n",
    "\n",
    "def pythonic2(str1,str2):\n",
    "    return sorted(str1) == sorted(str2)\n",
    "\n",
    "%timeit pythonic1(\"apple\",\"pleap\")\n",
    "%timeit pythonic2(\"apple\",\"pleap\")\n",
    "print(\"----\")\n",
    "%timeit pythonic1(original,anagram)\n",
    "%timeit pythonic2(original,anagram)"
   ]
  }
 ],
 "metadata": {
  "kernelspec": {
   "display_name": "Python 3",
   "language": "python",
   "name": "python3"
  },
  "language_info": {
   "codemirror_mode": {
    "name": "ipython",
    "version": 3
   },
   "file_extension": ".py",
   "mimetype": "text/x-python",
   "name": "python",
   "nbconvert_exporter": "python",
   "pygments_lexer": "ipython3",
   "version": "3.4.3"
  }
 },
 "nbformat": 4,
 "nbformat_minor": 0
}
